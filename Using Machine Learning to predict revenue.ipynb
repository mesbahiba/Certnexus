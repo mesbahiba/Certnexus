{
 "cells": [
  {
   "cell_type": "markdown",
   "metadata": {},
   "source": [
    "# Using Machine Learning to predict revenue"
   ]
  },
  {
   "cell_type": "markdown",
   "metadata": {},
   "source": [
    "It is finally time to model our dataset to predict the revenue generated per customer and the goal of this lesson is to learn how a target variable can be predicted using Machine Learning. We will also evaluate our model in this lesson.\n",
    "\n",
    "As a recap, we've followed the following processes till now:\n",
    "\n",
    "1. Data Optimization\n",
    "2. Data Cleaning\n",
    "3. Data Analysis\n",
    "4. Data Pre-processing for Machine Learning\n",
    "\n",
    "Now, we will conclude this course by performing the following three processes in this lesson:\n",
    "\n",
    "5. Data Splitting\n",
    "6. Machine Learning\n",
    "7. Model Evaluation\n",
    "\n",
    "Before we start this lesson, please make sure to install the `lightgbm` library which contains helper functions to build and train a tree-based Machine Learning algorithm called Light Gradient Boosting Machine. \n",
    "\n",
    "LightGBM is a free and open source distributed gradient boosting framework for Machine Learning originally developed by Microsoft and you can install it using the following command:"
   ]
  },
  {
   "cell_type": "code",
   "execution_count": 1,
   "metadata": {},
   "outputs": [],
   "source": [
    "# !pip install lightgbm"
   ]
  },
  {
   "cell_type": "markdown",
   "metadata": {},
   "source": [
    "Now, let us start by importing the necessary libraries,"
   ]
  },
  {
   "cell_type": "code",
   "execution_count": 2,
   "metadata": {},
   "outputs": [],
   "source": [
    "import pandas as pd\n",
    "import lightgbm as lgb\n",
    "import datetime"
   ]
  },
  {
   "cell_type": "markdown",
   "metadata": {},
   "source": [
    "Next, importing the CSV file called `preprocessed_gstore_data.csv` which contains pre-processed information about each user's website visit along with the revenue they generated for Google. "
   ]
  },
  {
   "cell_type": "code",
   "execution_count": 3,
   "metadata": {},
   "outputs": [],
   "source": [
    "# Reading in the CSV file as a DataFrame\n",
    "store_df = pd.read_csv('data/preprocessed_gstore_data.csv', low_memory=False)"
   ]
  },
  {
   "cell_type": "code",
   "execution_count": 4,
   "metadata": {},
   "outputs": [
    {
     "data": {
      "text/html": [
       "<div>\n",
       "<style scoped>\n",
       "    .dataframe tbody tr th:only-of-type {\n",
       "        vertical-align: middle;\n",
       "    }\n",
       "\n",
       "    .dataframe tbody tr th {\n",
       "        vertical-align: top;\n",
       "    }\n",
       "\n",
       "    .dataframe thead th {\n",
       "        text-align: right;\n",
       "    }\n",
       "</style>\n",
       "<table border=\"1\" class=\"dataframe\">\n",
       "  <thead>\n",
       "    <tr style=\"text-align: right;\">\n",
       "      <th></th>\n",
       "      <th>channelGrouping</th>\n",
       "      <th>date</th>\n",
       "      <th>fullVisitorId</th>\n",
       "      <th>visitId</th>\n",
       "      <th>visitNumber</th>\n",
       "      <th>visitStartTime</th>\n",
       "      <th>device.browser</th>\n",
       "      <th>device.operatingSystem</th>\n",
       "      <th>device.isMobile</th>\n",
       "      <th>device.deviceCategory</th>\n",
       "      <th>...</th>\n",
       "      <th>totals.transactionRevenue</th>\n",
       "      <th>trafficSource.campaign</th>\n",
       "      <th>trafficSource.source</th>\n",
       "      <th>trafficSource.medium</th>\n",
       "      <th>trafficSource.keyword</th>\n",
       "      <th>trafficSource.isTrueDirect</th>\n",
       "      <th>trafficSource.adwordsClickInfo.page</th>\n",
       "      <th>trafficSource.adwordsClickInfo.slot</th>\n",
       "      <th>trafficSource.adwordsClickInfo.adNetworkType</th>\n",
       "      <th>trafficSource.adwordsClickInfo.isVideoAd</th>\n",
       "    </tr>\n",
       "  </thead>\n",
       "  <tbody>\n",
       "    <tr>\n",
       "      <th>0</th>\n",
       "      <td>4</td>\n",
       "      <td>2016-09-02</td>\n",
       "      <td>1131660440785968503</td>\n",
       "      <td>1472830385</td>\n",
       "      <td>1</td>\n",
       "      <td>1472830385</td>\n",
       "      <td>11</td>\n",
       "      <td>16</td>\n",
       "      <td>0</td>\n",
       "      <td>0</td>\n",
       "      <td>...</td>\n",
       "      <td>0.0</td>\n",
       "      <td>0</td>\n",
       "      <td>149</td>\n",
       "      <td>5</td>\n",
       "      <td>11</td>\n",
       "      <td>0</td>\n",
       "      <td>0</td>\n",
       "      <td>0</td>\n",
       "      <td>1</td>\n",
       "      <td>1</td>\n",
       "    </tr>\n",
       "    <tr>\n",
       "      <th>1</th>\n",
       "      <td>4</td>\n",
       "      <td>2016-09-02</td>\n",
       "      <td>377306020877927890</td>\n",
       "      <td>1472880147</td>\n",
       "      <td>1</td>\n",
       "      <td>1472880147</td>\n",
       "      <td>16</td>\n",
       "      <td>7</td>\n",
       "      <td>0</td>\n",
       "      <td>0</td>\n",
       "      <td>...</td>\n",
       "      <td>0.0</td>\n",
       "      <td>0</td>\n",
       "      <td>149</td>\n",
       "      <td>5</td>\n",
       "      <td>11</td>\n",
       "      <td>0</td>\n",
       "      <td>0</td>\n",
       "      <td>0</td>\n",
       "      <td>1</td>\n",
       "      <td>1</td>\n",
       "    </tr>\n",
       "    <tr>\n",
       "      <th>2</th>\n",
       "      <td>4</td>\n",
       "      <td>2016-09-02</td>\n",
       "      <td>3895546263509774583</td>\n",
       "      <td>1472865386</td>\n",
       "      <td>1</td>\n",
       "      <td>1472865386</td>\n",
       "      <td>11</td>\n",
       "      <td>16</td>\n",
       "      <td>0</td>\n",
       "      <td>0</td>\n",
       "      <td>...</td>\n",
       "      <td>0.0</td>\n",
       "      <td>0</td>\n",
       "      <td>149</td>\n",
       "      <td>5</td>\n",
       "      <td>11</td>\n",
       "      <td>0</td>\n",
       "      <td>0</td>\n",
       "      <td>0</td>\n",
       "      <td>1</td>\n",
       "      <td>1</td>\n",
       "    </tr>\n",
       "    <tr>\n",
       "      <th>3</th>\n",
       "      <td>4</td>\n",
       "      <td>2016-09-02</td>\n",
       "      <td>4763447161404445595</td>\n",
       "      <td>1472881213</td>\n",
       "      <td>1</td>\n",
       "      <td>1472881213</td>\n",
       "      <td>46</td>\n",
       "      <td>6</td>\n",
       "      <td>0</td>\n",
       "      <td>0</td>\n",
       "      <td>...</td>\n",
       "      <td>0.0</td>\n",
       "      <td>0</td>\n",
       "      <td>149</td>\n",
       "      <td>5</td>\n",
       "      <td>1098</td>\n",
       "      <td>0</td>\n",
       "      <td>0</td>\n",
       "      <td>0</td>\n",
       "      <td>1</td>\n",
       "      <td>1</td>\n",
       "    </tr>\n",
       "    <tr>\n",
       "      <th>4</th>\n",
       "      <td>4</td>\n",
       "      <td>2016-09-02</td>\n",
       "      <td>27294437909732085</td>\n",
       "      <td>1472822600</td>\n",
       "      <td>2</td>\n",
       "      <td>1472822600</td>\n",
       "      <td>11</td>\n",
       "      <td>1</td>\n",
       "      <td>1</td>\n",
       "      <td>1</td>\n",
       "      <td>...</td>\n",
       "      <td>0.0</td>\n",
       "      <td>0</td>\n",
       "      <td>149</td>\n",
       "      <td>5</td>\n",
       "      <td>11</td>\n",
       "      <td>1</td>\n",
       "      <td>0</td>\n",
       "      <td>0</td>\n",
       "      <td>1</td>\n",
       "      <td>1</td>\n",
       "    </tr>\n",
       "  </tbody>\n",
       "</table>\n",
       "<p>5 rows × 31 columns</p>\n",
       "</div>"
      ],
      "text/plain": [
       "   channelGrouping        date        fullVisitorId     visitId  visitNumber  \\\n",
       "0                4  2016-09-02  1131660440785968503  1472830385            1   \n",
       "1                4  2016-09-02   377306020877927890  1472880147            1   \n",
       "2                4  2016-09-02  3895546263509774583  1472865386            1   \n",
       "3                4  2016-09-02  4763447161404445595  1472881213            1   \n",
       "4                4  2016-09-02    27294437909732085  1472822600            2   \n",
       "\n",
       "   visitStartTime  device.browser  device.operatingSystem  device.isMobile  \\\n",
       "0      1472830385              11                      16                0   \n",
       "1      1472880147              16                       7                0   \n",
       "2      1472865386              11                      16                0   \n",
       "3      1472881213              46                       6                0   \n",
       "4      1472822600              11                       1                1   \n",
       "\n",
       "   device.deviceCategory  ...  totals.transactionRevenue  \\\n",
       "0                      0  ...                        0.0   \n",
       "1                      0  ...                        0.0   \n",
       "2                      0  ...                        0.0   \n",
       "3                      0  ...                        0.0   \n",
       "4                      1  ...                        0.0   \n",
       "\n",
       "   trafficSource.campaign  trafficSource.source  trafficSource.medium  \\\n",
       "0                       0                   149                     5   \n",
       "1                       0                   149                     5   \n",
       "2                       0                   149                     5   \n",
       "3                       0                   149                     5   \n",
       "4                       0                   149                     5   \n",
       "\n",
       "   trafficSource.keyword  trafficSource.isTrueDirect  \\\n",
       "0                     11                           0   \n",
       "1                     11                           0   \n",
       "2                     11                           0   \n",
       "3                   1098                           0   \n",
       "4                     11                           1   \n",
       "\n",
       "   trafficSource.adwordsClickInfo.page  trafficSource.adwordsClickInfo.slot  \\\n",
       "0                                    0                                    0   \n",
       "1                                    0                                    0   \n",
       "2                                    0                                    0   \n",
       "3                                    0                                    0   \n",
       "4                                    0                                    0   \n",
       "\n",
       "   trafficSource.adwordsClickInfo.adNetworkType  \\\n",
       "0                                             1   \n",
       "1                                             1   \n",
       "2                                             1   \n",
       "3                                             1   \n",
       "4                                             1   \n",
       "\n",
       "   trafficSource.adwordsClickInfo.isVideoAd  \n",
       "0                                         1  \n",
       "1                                         1  \n",
       "2                                         1  \n",
       "3                                         1  \n",
       "4                                         1  \n",
       "\n",
       "[5 rows x 31 columns]"
      ]
     },
     "execution_count": 4,
     "metadata": {},
     "output_type": "execute_result"
    }
   ],
   "source": [
    "# Looking at the first five rows\n",
    "store_df.head()"
   ]
  },
  {
   "cell_type": "code",
   "execution_count": 5,
   "metadata": {},
   "outputs": [
    {
     "data": {
      "text/plain": [
       "(903653, 31)"
      ]
     },
     "execution_count": 5,
     "metadata": {},
     "output_type": "execute_result"
    }
   ],
   "source": [
    "# Printing the shape\n",
    "store_df.shape"
   ]
  },
  {
   "cell_type": "markdown",
   "metadata": {},
   "source": [
    "First of all, let us split the dataset based on a 70:30 ratio. 70% of the dataset will be used for training our LightGBM model and 30% of the dataset will be used for evaluating it.\n",
    "\n",
    "For this, we can get the dates before 2017/04/01 as the training dataset and the dates after 2017/04/01 as the evaluation dataset."
   ]
  },
  {
   "cell_type": "code",
   "execution_count": 6,
   "metadata": {},
   "outputs": [],
   "source": [
    "train_df = store_df[pd.to_datetime(store_df['date']).dt.date < datetime.date(2017,4,1)]\n",
    "eval_df = store_df[pd.to_datetime(store_df['date']).dt.date >= datetime.date(2017,4,1)]"
   ]
  },
  {
   "cell_type": "code",
   "execution_count": 7,
   "metadata": {
    "scrolled": true
   },
   "outputs": [
    {
     "data": {
      "text/plain": [
       "(633210, 31)"
      ]
     },
     "execution_count": 7,
     "metadata": {},
     "output_type": "execute_result"
    }
   ],
   "source": [
    "# Printing the shape of the training DataFrame\n",
    "train_df.shape"
   ]
  },
  {
   "cell_type": "code",
   "execution_count": 8,
   "metadata": {},
   "outputs": [
    {
     "data": {
      "text/plain": [
       "(270443, 31)"
      ]
     },
     "execution_count": 8,
     "metadata": {},
     "output_type": "execute_result"
    }
   ],
   "source": [
    "# Printing the shape of the evaluation DataFrame\n",
    "eval_df.shape"
   ]
  },
  {
   "cell_type": "markdown",
   "metadata": {},
   "source": [
    "Next, let us get the target variable (y) and the features (X) from the splitted DataFrames. Please mind that we will be removing some columns since they cannot be used for training the model."
   ]
  },
  {
   "cell_type": "code",
   "execution_count": 9,
   "metadata": {},
   "outputs": [],
   "source": [
    "# Getting the target (y) from the splitted DataFrames\n",
    "train_y = train_df[\"totals.transactionRevenue\"].astype(float).values\n",
    "eval_y = eval_df[\"totals.transactionRevenue\"].astype(float).values\n",
    "\n",
    "# Getting the features (X) from the splitted DataFrames\n",
    "train_X = train_df.drop(['date', 'fullVisitorId', 'visitId', 'visitStartTime', 'totals.transactionRevenue'], axis=1)\n",
    "eval_X = eval_df.drop(['date', 'fullVisitorId', 'visitId', 'visitStartTime', 'totals.transactionRevenue'], axis=1)"
   ]
  },
  {
   "cell_type": "markdown",
   "metadata": {},
   "source": [
    "Creating a custom function to train the LightGBM model."
   ]
  },
  {
   "cell_type": "code",
   "execution_count": 10,
   "metadata": {},
   "outputs": [
    {
     "name": "stdout",
     "output_type": "stream",
     "text": [
      "Training until validation scores don't improve for 100 rounds\n",
      "[100]\tvalid_0's rmse: 1.77938\n",
      "[200]\tvalid_0's rmse: 1.77289\n",
      "[300]\tvalid_0's rmse: 1.77419\n",
      "Early stopping, best iteration is:\n",
      "[228]\tvalid_0's rmse: 1.77265\n"
     ]
    }
   ],
   "source": [
    "def train_lightgbm(train_X, train_y, eval_X, eval_y):\n",
    "    \n",
    "    # Initializing the training dataset\n",
    "    lgtrain = lgb.Dataset(train_X, label=train_y)\n",
    "    \n",
    "    # Initializing the evaluation dataset\n",
    "    lgeval = lgb.Dataset(eval_X, label=eval_y)\n",
    "    \n",
    "    # Hyper-parameters for the LightGBM model\n",
    "    params = {\n",
    "        \"objective\" : \"regression\",\n",
    "        \"metric\" : \"rmse\", \n",
    "        \"num_leaves\" : 30,\n",
    "        \"min_child_samples\" : 100,\n",
    "        \"learning_rate\" : 0.1,\n",
    "        \"bagging_fraction\" : 0.7,\n",
    "        \"feature_fraction\" : 0.5,\n",
    "        \"bagging_seed\" : 2018,\n",
    "        \"verbosity\" : -1\n",
    "    }\n",
    "    \n",
    "    # Training the LightGBM model\n",
    "    model = lgb.train(params, lgtrain, 1000, valid_sets=[lgeval], early_stopping_rounds=100, verbose_eval=100)\n",
    "    \n",
    "    # Returning the model\n",
    "    return model\n",
    "\n",
    "# Training the model \n",
    "model = train_lightgbm(train_X, train_y, eval_X, eval_y)"
   ]
  },
  {
   "cell_type": "markdown",
   "metadata": {},
   "source": [
    "We've successfully trained our LightGBM model.\n",
    "\n",
    "Now, let us quickly evaluate the model to see how it is doing by making an actual prediction using it. For this, let us select a row of data from our evaluation dataset and the actual revenue for that row of data."
   ]
  },
  {
   "cell_type": "code",
   "execution_count": 11,
   "metadata": {
    "scrolled": true
   },
   "outputs": [],
   "source": [
    "# Index to test 0/8612\n",
    "index_val = 8612\n",
    "\n",
    "# Selecting the index value from the evaluation DataFrame\n",
    "actual_X_value = eval_X.reset_index(drop=True).iloc[index_val]\n",
    "\n",
    "# Selecting the revenue from the target variable array\n",
    "actual_y_value = eval_y[index_val]"
   ]
  },
  {
   "cell_type": "code",
   "execution_count": 12,
   "metadata": {},
   "outputs": [
    {
     "data": {
      "text/plain": [
       "channelGrouping                                   2\n",
       "visitNumber                                       4\n",
       "device.browser                                   11\n",
       "device.operatingSystem                            7\n",
       "device.isMobile                                   0\n",
       "device.deviceCategory                             0\n",
       "geoNetwork.continent                              2\n",
       "geoNetwork.subContinent                          12\n",
       "geoNetwork.country                              212\n",
       "geoNetwork.region                               220\n",
       "geoNetwork.metro                                 59\n",
       "geoNetwork.city                                 393\n",
       "geoNetwork.networkDomain                          0\n",
       "totals.hits                                      29\n",
       "totals.pageviews                                 24\n",
       "totals.bounces                                    0\n",
       "totals.newVisits                                  0\n",
       "trafficSource.campaign                            0\n",
       "trafficSource.source                              0\n",
       "trafficSource.medium                              0\n",
       "trafficSource.keyword                            11\n",
       "trafficSource.isTrueDirect                        1\n",
       "trafficSource.adwordsClickInfo.page               0\n",
       "trafficSource.adwordsClickInfo.slot               0\n",
       "trafficSource.adwordsClickInfo.adNetworkType      1\n",
       "trafficSource.adwordsClickInfo.isVideoAd          1\n",
       "Name: 8612, dtype: int64"
      ]
     },
     "execution_count": 12,
     "metadata": {},
     "output_type": "execute_result"
    }
   ],
   "source": [
    "# Printing the feature values\n",
    "actual_X_value"
   ]
  },
  {
   "cell_type": "code",
   "execution_count": 13,
   "metadata": {},
   "outputs": [
    {
     "data": {
      "text/plain": [
       "17.84014772563146"
      ]
     },
     "execution_count": 13,
     "metadata": {},
     "output_type": "execute_result"
    }
   ],
   "source": [
    "# Printing the actual revenue\n",
    "actual_y_value"
   ]
  },
  {
   "cell_type": "markdown",
   "metadata": {},
   "source": [
    "Now, let us predict if our model can get a prediction close to the actual generated revenue."
   ]
  },
  {
   "cell_type": "code",
   "execution_count": 15,
   "metadata": {
    "scrolled": true
   },
   "outputs": [
    {
     "data": {
      "text/plain": [
       "array([10.27687219])"
      ]
     },
     "execution_count": 15,
     "metadata": {},
     "output_type": "execute_result"
    }
   ],
   "source": [
    "# Predicting the value\n",
    "model.predict(actual_X_value.astype(float))"
   ]
  },
  {
   "cell_type": "markdown",
   "metadata": {},
   "source": [
    "As a reminder, you can convert these revenue values to their original value by using the `expm1()` method."
   ]
  },
  {
   "cell_type": "markdown",
   "metadata": {},
   "source": [
    "We can conclude the following from this small evaluation:\n",
    "\n",
    "1. The model is actually trained and is able to predict if a customer will generate revenue or not.\n",
    "\n",
    "2. The model is not able to accurately predict the revenue amount.\n",
    "\n",
    "This is quite good considering we built this model with 30+ columns in just about an hour of time. Now, it is your time to shine!"
   ]
  },
  {
   "cell_type": "markdown",
   "metadata": {},
   "source": [
    "As an exercise, I would encourage you to take the time to go through all of the steps we've done till now in the course and find different ways to improve the model. \n",
    "\n",
    "Some things that you can do to increase model accuracy are as follows:\n",
    "\n",
    "- Do not drop any of the columns and start with the unoptimized dataset. Then, individually go through all of the columns and only drop columns that are not helpful to the model.\n",
    "\n",
    "- Engineer new features from the dataset based on the available data fields.\n",
    "\n",
    "- Change the LightGBM model's hyper-parameters.\n",
    "\n",
    "- Use another Machine Learning model or create an ensemble of Machine Learning algorithms for getting better results.\n",
    "\n",
    "- Use K-Fold Cross Validation instead of simple data splitting for model evaluation.\n",
    "\n",
    "- ... and much more. Research!"
   ]
  }
 ],
 "metadata": {
  "kernelspec": {
   "display_name": "Python 3",
   "language": "python",
   "name": "python3"
  },
  "language_info": {
   "codemirror_mode": {
    "name": "ipython",
    "version": 3
   },
   "file_extension": ".py",
   "mimetype": "text/x-python",
   "name": "python",
   "nbconvert_exporter": "python",
   "pygments_lexer": "ipython3",
   "version": "3.8.6"
  }
 },
 "nbformat": 4,
 "nbformat_minor": 4
}
