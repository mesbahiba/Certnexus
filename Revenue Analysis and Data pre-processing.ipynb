{
 "cells": [
  {
   "cell_type": "markdown",
   "metadata": {},
   "source": [
    "# Revenue Analysis and Data pre-processing"
   ]
  },
  {
   "cell_type": "markdown",
   "metadata": {},
   "source": [
    "In this lesson, we will be focusing on analyzing the revenue information from the cleaned and optimized GStore dataset. We will also pre-process the data to make it ready for data modeling.\n",
    "\n",
    "The goal of this lesson is to understand how the target column correlates with the feature columns and what kind of pre-processing steps are generally required before modeling the data using Machine Learning."
   ]
  },
  {
   "cell_type": "markdown",
   "metadata": {},
   "source": [
    "Let us start by importing the necessary libraries,"
   ]
  },
  {
   "cell_type": "code",
   "execution_count": 1,
   "metadata": {},
   "outputs": [],
   "source": [
    "import pandas as pd\n",
    "import numpy as np\n",
    "import matplotlib.pyplot as plt\n",
    "import seaborn as sns\n",
    "from sklearn import preprocessing\n",
    "\n",
    "%matplotlib inline"
   ]
  },
  {
   "cell_type": "markdown",
   "metadata": {},
   "source": [
    "Next, importing the CSV file called `cleaned_gstore_data.csv` which contains the cleaned information about each user's website visit along with the revenue they generated for Google. "
   ]
  },
  {
   "cell_type": "code",
   "execution_count": 2,
   "metadata": {},
   "outputs": [],
   "source": [
    "# Reading in the CSV file as a DataFrame\n",
    "store_df = pd.read_csv('data/cleaned_gstore_data.csv', low_memory=False)"
   ]
  },
  {
   "cell_type": "code",
   "execution_count": 3,
   "metadata": {},
   "outputs": [
    {
     "data": {
      "text/html": [
       "<div>\n",
       "<style scoped>\n",
       "    .dataframe tbody tr th:only-of-type {\n",
       "        vertical-align: middle;\n",
       "    }\n",
       "\n",
       "    .dataframe tbody tr th {\n",
       "        vertical-align: top;\n",
       "    }\n",
       "\n",
       "    .dataframe thead th {\n",
       "        text-align: right;\n",
       "    }\n",
       "</style>\n",
       "<table border=\"1\" class=\"dataframe\">\n",
       "  <thead>\n",
       "    <tr style=\"text-align: right;\">\n",
       "      <th></th>\n",
       "      <th>channelGrouping</th>\n",
       "      <th>date</th>\n",
       "      <th>fullVisitorId</th>\n",
       "      <th>visitId</th>\n",
       "      <th>visitNumber</th>\n",
       "      <th>visitStartTime</th>\n",
       "      <th>device.browser</th>\n",
       "      <th>device.operatingSystem</th>\n",
       "      <th>device.isMobile</th>\n",
       "      <th>device.deviceCategory</th>\n",
       "      <th>...</th>\n",
       "      <th>totals.transactionRevenue</th>\n",
       "      <th>trafficSource.campaign</th>\n",
       "      <th>trafficSource.source</th>\n",
       "      <th>trafficSource.medium</th>\n",
       "      <th>trafficSource.keyword</th>\n",
       "      <th>trafficSource.isTrueDirect</th>\n",
       "      <th>trafficSource.adwordsClickInfo.page</th>\n",
       "      <th>trafficSource.adwordsClickInfo.slot</th>\n",
       "      <th>trafficSource.adwordsClickInfo.adNetworkType</th>\n",
       "      <th>trafficSource.adwordsClickInfo.isVideoAd</th>\n",
       "    </tr>\n",
       "  </thead>\n",
       "  <tbody>\n",
       "    <tr>\n",
       "      <th>0</th>\n",
       "      <td>Organic Search</td>\n",
       "      <td>2016-09-02</td>\n",
       "      <td>1131660440785968503</td>\n",
       "      <td>1472830385</td>\n",
       "      <td>1</td>\n",
       "      <td>1472830385</td>\n",
       "      <td>Chrome</td>\n",
       "      <td>Windows</td>\n",
       "      <td>False</td>\n",
       "      <td>desktop</td>\n",
       "      <td>...</td>\n",
       "      <td>0.0</td>\n",
       "      <td>(not set)</td>\n",
       "      <td>google</td>\n",
       "      <td>organic</td>\n",
       "      <td>(not provided)</td>\n",
       "      <td>False</td>\n",
       "      <td>0</td>\n",
       "      <td>NoAds</td>\n",
       "      <td>NoAds</td>\n",
       "      <td>NoAds</td>\n",
       "    </tr>\n",
       "    <tr>\n",
       "      <th>1</th>\n",
       "      <td>Organic Search</td>\n",
       "      <td>2016-09-02</td>\n",
       "      <td>377306020877927890</td>\n",
       "      <td>1472880147</td>\n",
       "      <td>1</td>\n",
       "      <td>1472880147</td>\n",
       "      <td>Firefox</td>\n",
       "      <td>Macintosh</td>\n",
       "      <td>False</td>\n",
       "      <td>desktop</td>\n",
       "      <td>...</td>\n",
       "      <td>0.0</td>\n",
       "      <td>(not set)</td>\n",
       "      <td>google</td>\n",
       "      <td>organic</td>\n",
       "      <td>(not provided)</td>\n",
       "      <td>False</td>\n",
       "      <td>0</td>\n",
       "      <td>NoAds</td>\n",
       "      <td>NoAds</td>\n",
       "      <td>NoAds</td>\n",
       "    </tr>\n",
       "    <tr>\n",
       "      <th>2</th>\n",
       "      <td>Organic Search</td>\n",
       "      <td>2016-09-02</td>\n",
       "      <td>3895546263509774583</td>\n",
       "      <td>1472865386</td>\n",
       "      <td>1</td>\n",
       "      <td>1472865386</td>\n",
       "      <td>Chrome</td>\n",
       "      <td>Windows</td>\n",
       "      <td>False</td>\n",
       "      <td>desktop</td>\n",
       "      <td>...</td>\n",
       "      <td>0.0</td>\n",
       "      <td>(not set)</td>\n",
       "      <td>google</td>\n",
       "      <td>organic</td>\n",
       "      <td>(not provided)</td>\n",
       "      <td>False</td>\n",
       "      <td>0</td>\n",
       "      <td>NoAds</td>\n",
       "      <td>NoAds</td>\n",
       "      <td>NoAds</td>\n",
       "    </tr>\n",
       "    <tr>\n",
       "      <th>3</th>\n",
       "      <td>Organic Search</td>\n",
       "      <td>2016-09-02</td>\n",
       "      <td>4763447161404445595</td>\n",
       "      <td>1472881213</td>\n",
       "      <td>1</td>\n",
       "      <td>1472881213</td>\n",
       "      <td>UC Browser</td>\n",
       "      <td>Linux</td>\n",
       "      <td>False</td>\n",
       "      <td>desktop</td>\n",
       "      <td>...</td>\n",
       "      <td>0.0</td>\n",
       "      <td>(not set)</td>\n",
       "      <td>google</td>\n",
       "      <td>organic</td>\n",
       "      <td>google + online</td>\n",
       "      <td>False</td>\n",
       "      <td>0</td>\n",
       "      <td>NoAds</td>\n",
       "      <td>NoAds</td>\n",
       "      <td>NoAds</td>\n",
       "    </tr>\n",
       "    <tr>\n",
       "      <th>4</th>\n",
       "      <td>Organic Search</td>\n",
       "      <td>2016-09-02</td>\n",
       "      <td>27294437909732085</td>\n",
       "      <td>1472822600</td>\n",
       "      <td>2</td>\n",
       "      <td>1472822600</td>\n",
       "      <td>Chrome</td>\n",
       "      <td>Android</td>\n",
       "      <td>True</td>\n",
       "      <td>mobile</td>\n",
       "      <td>...</td>\n",
       "      <td>0.0</td>\n",
       "      <td>(not set)</td>\n",
       "      <td>google</td>\n",
       "      <td>organic</td>\n",
       "      <td>(not provided)</td>\n",
       "      <td>True</td>\n",
       "      <td>0</td>\n",
       "      <td>NoAds</td>\n",
       "      <td>NoAds</td>\n",
       "      <td>NoAds</td>\n",
       "    </tr>\n",
       "  </tbody>\n",
       "</table>\n",
       "<p>5 rows × 31 columns</p>\n",
       "</div>"
      ],
      "text/plain": [
       "  channelGrouping        date        fullVisitorId     visitId  visitNumber  \\\n",
       "0  Organic Search  2016-09-02  1131660440785968503  1472830385            1   \n",
       "1  Organic Search  2016-09-02   377306020877927890  1472880147            1   \n",
       "2  Organic Search  2016-09-02  3895546263509774583  1472865386            1   \n",
       "3  Organic Search  2016-09-02  4763447161404445595  1472881213            1   \n",
       "4  Organic Search  2016-09-02    27294437909732085  1472822600            2   \n",
       "\n",
       "   visitStartTime device.browser device.operatingSystem  device.isMobile  \\\n",
       "0      1472830385         Chrome                Windows            False   \n",
       "1      1472880147        Firefox              Macintosh            False   \n",
       "2      1472865386         Chrome                Windows            False   \n",
       "3      1472881213     UC Browser                  Linux            False   \n",
       "4      1472822600         Chrome                Android             True   \n",
       "\n",
       "  device.deviceCategory  ... totals.transactionRevenue trafficSource.campaign  \\\n",
       "0               desktop  ...                       0.0              (not set)   \n",
       "1               desktop  ...                       0.0              (not set)   \n",
       "2               desktop  ...                       0.0              (not set)   \n",
       "3               desktop  ...                       0.0              (not set)   \n",
       "4                mobile  ...                       0.0              (not set)   \n",
       "\n",
       "  trafficSource.source trafficSource.medium trafficSource.keyword  \\\n",
       "0               google              organic        (not provided)   \n",
       "1               google              organic        (not provided)   \n",
       "2               google              organic        (not provided)   \n",
       "3               google              organic       google + online   \n",
       "4               google              organic        (not provided)   \n",
       "\n",
       "  trafficSource.isTrueDirect trafficSource.adwordsClickInfo.page  \\\n",
       "0                      False                                   0   \n",
       "1                      False                                   0   \n",
       "2                      False                                   0   \n",
       "3                      False                                   0   \n",
       "4                       True                                   0   \n",
       "\n",
       "   trafficSource.adwordsClickInfo.slot  \\\n",
       "0                                NoAds   \n",
       "1                                NoAds   \n",
       "2                                NoAds   \n",
       "3                                NoAds   \n",
       "4                                NoAds   \n",
       "\n",
       "   trafficSource.adwordsClickInfo.adNetworkType  \\\n",
       "0                                         NoAds   \n",
       "1                                         NoAds   \n",
       "2                                         NoAds   \n",
       "3                                         NoAds   \n",
       "4                                         NoAds   \n",
       "\n",
       "   trafficSource.adwordsClickInfo.isVideoAd  \n",
       "0                                     NoAds  \n",
       "1                                     NoAds  \n",
       "2                                     NoAds  \n",
       "3                                     NoAds  \n",
       "4                                     NoAds  \n",
       "\n",
       "[5 rows x 31 columns]"
      ]
     },
     "execution_count": 3,
     "metadata": {},
     "output_type": "execute_result"
    }
   ],
   "source": [
    "# Looking at the first five rows\n",
    "store_df.head()"
   ]
  },
  {
   "cell_type": "code",
   "execution_count": 4,
   "metadata": {},
   "outputs": [
    {
     "data": {
      "text/plain": [
       "(903653, 31)"
      ]
     },
     "execution_count": 4,
     "metadata": {},
     "output_type": "execute_result"
    }
   ],
   "source": [
    "# Printing the shape\n",
    "store_df.shape"
   ]
  },
  {
   "cell_type": "markdown",
   "metadata": {},
   "source": [
    "Let us start the analysis by looking at how much percentage of the customers are actually generating revenue for the GStore.\n",
    "\n",
    "Since a single customer can have multiple rows of revenue information in the dataset tied up with their session history, let us group our data based on the `fullVisitorId` and then, sum the revenue. "
   ]
  },
  {
   "cell_type": "code",
   "execution_count": 5,
   "metadata": {},
   "outputs": [],
   "source": [
    "# Grouping up the data based on the visitor ID and summing the total revenue for each user\n",
    "rev_df = store_df.groupby(\"fullVisitorId\")[\"totals.transactionRevenue\"].sum().reset_index()"
   ]
  },
  {
   "cell_type": "code",
   "execution_count": 6,
   "metadata": {},
   "outputs": [
    {
     "data": {
      "text/html": [
       "<div>\n",
       "<style scoped>\n",
       "    .dataframe tbody tr th:only-of-type {\n",
       "        vertical-align: middle;\n",
       "    }\n",
       "\n",
       "    .dataframe tbody tr th {\n",
       "        vertical-align: top;\n",
       "    }\n",
       "\n",
       "    .dataframe thead th {\n",
       "        text-align: right;\n",
       "    }\n",
       "</style>\n",
       "<table border=\"1\" class=\"dataframe\">\n",
       "  <thead>\n",
       "    <tr style=\"text-align: right;\">\n",
       "      <th></th>\n",
       "      <th>fullVisitorId</th>\n",
       "      <th>totals.transactionRevenue</th>\n",
       "    </tr>\n",
       "  </thead>\n",
       "  <tbody>\n",
       "    <tr>\n",
       "      <th>0</th>\n",
       "      <td>0000010278554503158</td>\n",
       "      <td>0.0</td>\n",
       "    </tr>\n",
       "    <tr>\n",
       "      <th>1</th>\n",
       "      <td>0000020424342248747</td>\n",
       "      <td>0.0</td>\n",
       "    </tr>\n",
       "    <tr>\n",
       "      <th>2</th>\n",
       "      <td>0000027376579751715</td>\n",
       "      <td>0.0</td>\n",
       "    </tr>\n",
       "    <tr>\n",
       "      <th>3</th>\n",
       "      <td>0000039460501403861</td>\n",
       "      <td>0.0</td>\n",
       "    </tr>\n",
       "    <tr>\n",
       "      <th>4</th>\n",
       "      <td>0000040862739425590</td>\n",
       "      <td>0.0</td>\n",
       "    </tr>\n",
       "    <tr>\n",
       "      <th>...</th>\n",
       "      <td>...</td>\n",
       "      <td>...</td>\n",
       "    </tr>\n",
       "    <tr>\n",
       "      <th>714162</th>\n",
       "      <td>9999963186378918199</td>\n",
       "      <td>0.0</td>\n",
       "    </tr>\n",
       "    <tr>\n",
       "      <th>714163</th>\n",
       "      <td>999997225970956660</td>\n",
       "      <td>0.0</td>\n",
       "    </tr>\n",
       "    <tr>\n",
       "      <th>714164</th>\n",
       "      <td>999997550040396460</td>\n",
       "      <td>0.0</td>\n",
       "    </tr>\n",
       "    <tr>\n",
       "      <th>714165</th>\n",
       "      <td>9999978264901065827</td>\n",
       "      <td>0.0</td>\n",
       "    </tr>\n",
       "    <tr>\n",
       "      <th>714166</th>\n",
       "      <td>9999986437109498564</td>\n",
       "      <td>0.0</td>\n",
       "    </tr>\n",
       "  </tbody>\n",
       "</table>\n",
       "<p>714167 rows × 2 columns</p>\n",
       "</div>"
      ],
      "text/plain": [
       "              fullVisitorId  totals.transactionRevenue\n",
       "0       0000010278554503158                        0.0\n",
       "1       0000020424342248747                        0.0\n",
       "2       0000027376579751715                        0.0\n",
       "3       0000039460501403861                        0.0\n",
       "4       0000040862739425590                        0.0\n",
       "...                     ...                        ...\n",
       "714162  9999963186378918199                        0.0\n",
       "714163   999997225970956660                        0.0\n",
       "714164   999997550040396460                        0.0\n",
       "714165  9999978264901065827                        0.0\n",
       "714166  9999986437109498564                        0.0\n",
       "\n",
       "[714167 rows x 2 columns]"
      ]
     },
     "execution_count": 6,
     "metadata": {},
     "output_type": "execute_result"
    }
   ],
   "source": [
    "# Printing the DataFrame\n",
    "rev_df"
   ]
  },
  {
   "cell_type": "markdown",
   "metadata": {},
   "source": [
    "Then, we can select the customers who are generating positive revenue, that is, greater than 0."
   ]
  },
  {
   "cell_type": "code",
   "execution_count": 7,
   "metadata": {},
   "outputs": [
    {
     "data": {
      "text/html": [
       "<div>\n",
       "<style scoped>\n",
       "    .dataframe tbody tr th:only-of-type {\n",
       "        vertical-align: middle;\n",
       "    }\n",
       "\n",
       "    .dataframe tbody tr th {\n",
       "        vertical-align: top;\n",
       "    }\n",
       "\n",
       "    .dataframe thead th {\n",
       "        text-align: right;\n",
       "    }\n",
       "</style>\n",
       "<table border=\"1\" class=\"dataframe\">\n",
       "  <thead>\n",
       "    <tr style=\"text-align: right;\">\n",
       "      <th></th>\n",
       "      <th>fullVisitorId</th>\n",
       "      <th>totals.transactionRevenue</th>\n",
       "    </tr>\n",
       "  </thead>\n",
       "  <tbody>\n",
       "    <tr>\n",
       "      <th>0</th>\n",
       "      <td>0000213131142648941</td>\n",
       "      <td>33590000.0</td>\n",
       "    </tr>\n",
       "    <tr>\n",
       "      <th>1</th>\n",
       "      <td>0002871498069867123</td>\n",
       "      <td>96350000.0</td>\n",
       "    </tr>\n",
       "    <tr>\n",
       "      <th>2</th>\n",
       "      <td>0003450834640354121</td>\n",
       "      <td>57950000.0</td>\n",
       "    </tr>\n",
       "    <tr>\n",
       "      <th>3</th>\n",
       "      <td>0003961110741104601</td>\n",
       "      <td>4980000.0</td>\n",
       "    </tr>\n",
       "    <tr>\n",
       "      <th>4</th>\n",
       "      <td>000435324061339869</td>\n",
       "      <td>44790000.0</td>\n",
       "    </tr>\n",
       "  </tbody>\n",
       "</table>\n",
       "</div>"
      ],
      "text/plain": [
       "         fullVisitorId  totals.transactionRevenue\n",
       "0  0000213131142648941                 33590000.0\n",
       "1  0002871498069867123                 96350000.0\n",
       "2  0003450834640354121                 57950000.0\n",
       "3  0003961110741104601                  4980000.0\n",
       "4   000435324061339869                 44790000.0"
      ]
     },
     "execution_count": 7,
     "metadata": {},
     "output_type": "execute_result"
    }
   ],
   "source": [
    "# Selecting the customers who are generating revenue\n",
    "positive_rev_df = rev_df[rev_df['totals.transactionRevenue'] > 0.0].reset_index(drop=True)\n",
    "\n",
    "# Printing the first five rows\n",
    "positive_rev_df.head()"
   ]
  },
  {
   "cell_type": "code",
   "execution_count": 8,
   "metadata": {},
   "outputs": [
    {
     "data": {
      "text/plain": [
       "(9996, 2)"
      ]
     },
     "execution_count": 8,
     "metadata": {},
     "output_type": "execute_result"
    }
   ],
   "source": [
    "# Printing the shape\n",
    "positive_rev_df.shape"
   ]
  },
  {
   "cell_type": "markdown",
   "metadata": {},
   "source": [
    "Finding out what percentage of the customers are generating revenue,"
   ]
  },
  {
   "cell_type": "code",
   "execution_count": 9,
   "metadata": {
    "scrolled": true
   },
   "outputs": [
    {
     "data": {
      "text/plain": [
       "1.399672625590373"
      ]
     },
     "execution_count": 9,
     "metadata": {},
     "output_type": "execute_result"
    }
   ],
   "source": [
    "# (Number of positive revenue rows / Number of all rows) * 100\n",
    "(9996/714167) * 100 "
   ]
  },
  {
   "cell_type": "markdown",
   "metadata": {},
   "source": [
    "Only 1.39% of the users are actually generating revenue for the store. \n",
    "\n",
    "This means that the revenue data is highly imbalanced and there are way more non-revenue generating users in the dataset than revenue-generating customers."
   ]
  },
  {
   "cell_type": "markdown",
   "metadata": {},
   "source": [
    "Next, let us look at the distribution of the revenue information in the dataset using statistical and graphical methods."
   ]
  },
  {
   "cell_type": "code",
   "execution_count": 10,
   "metadata": {},
   "outputs": [
    {
     "name": "stdout",
     "output_type": "stream",
     "text": [
      "Transaction Revenue Min Value: 10000.0\n",
      "Transaction Revenue Mean Value: 154068751.50060025\n",
      "Transaction Revenue Median Value: 48845000.0\n",
      "Transaction Revenue Max Value: 77113430000.0\n"
     ]
    }
   ],
   "source": [
    "# Printing some statistics of our data\n",
    "print(\"Transaction Revenue Min Value:\", positive_rev_df[\"totals.transactionRevenue\"].min())\n",
    "print(\"Transaction Revenue Mean Value:\", positive_rev_df[\"totals.transactionRevenue\"].mean())\n",
    "print(\"Transaction Revenue Median Value:\", positive_rev_df[\"totals.transactionRevenue\"].median()) \n",
    "print(\"Transaction Revenue Max Value:\", positive_rev_df[\"totals.transactionRevenue\"].max())"
   ]
  },
  {
   "cell_type": "code",
   "execution_count": 11,
   "metadata": {
    "scrolled": true
   },
   "outputs": [
    {
     "name": "stdout",
     "output_type": "stream",
     "text": [
      "x_axis_val: range(0, 9996)\n",
      "y_axis_val: [1.000000e+04 4.000000e+04 9.000000e+04 ... 1.517012e+10 1.602375e+10\n",
      " 7.711343e+10]\n"
     ]
    },
    {
     "data": {
      "text/plain": [
       "Text(0.5, 1.0, 'Transaction Revenue Distribution')"
      ]
     },
     "execution_count": 11,
     "metadata": {},
     "output_type": "execute_result"
    },
    {
     "data": {
      "image/png": "[encoded data removed]",
      "text/plain": [
       "<Figure size 432x288 with 1 Axes>"
      ]
     },
     "metadata": {
      "needs_background": "light"
     },
     "output_type": "display_data"
    }
   ],
   "source": [
    "# Setting the x-axis and y-axis values\n",
    "x_axis_val = range(positive_rev_df.shape[0])\n",
    "print(\"x_axis_val:\", x_axis_val)\n",
    "\n",
    "y_axis_val = np.sort(positive_rev_df['totals.transactionRevenue'].values)\n",
    "print(\"y_axis_val:\", y_axis_val)\n",
    "\n",
    "# Plotting a scatter plot\n",
    "plt.scatter(x_axis_val, y_axis_val)\n",
    "plt.title('Transaction Revenue Distribution')"
   ]
  },
  {
   "cell_type": "markdown",
   "metadata": {},
   "source": [
    "We can also plot a Kernel Density Estimation plot which will give us a proper idea about the skewness of the data. Skewness refers to the fact that there are cases where one or a few points are much larger than the bulk of the data. "
   ]
  },
  {
   "cell_type": "code",
   "execution_count": 12,
   "metadata": {},
   "outputs": [
    {
     "data": {
      "text/plain": [
       "Text(0.5, 1.0, 'Transaction Revenue Distribution')"
      ]
     },
     "execution_count": 12,
     "metadata": {},
     "output_type": "execute_result"
    },
    {
     "data": {
      "image/png": "[encoded data removed]",
      "text/plain": [
       "<Figure size 360x360 with 1 Axes>"
      ]
     },
     "metadata": {
      "needs_background": "light"
     },
     "output_type": "display_data"
    }
   ],
   "source": [
    "# Plotting a KDE plot\n",
    "sns.displot(positive_rev_df[\"totals.transactionRevenue\"], bins=40, kde=True)\n",
    "plt.title('Transaction Revenue Distribution')"
   ]
  },
  {
   "cell_type": "markdown",
   "metadata": {},
   "source": [
    "A common step to fix such skewness is to find the logarithmic value of the data. We will be using the `log1p()` method for this.\n",
    "\n",
    "We can later convert the logarithmic value to the original value using the `expm1()` method from Numpy."
   ]
  },
  {
   "cell_type": "code",
   "execution_count": 13,
   "metadata": {},
   "outputs": [
    {
     "name": "stdout",
     "output_type": "stream",
     "text": [
      "Logarithmic value of 20 + 1: 3.044522437723423\n",
      "Original value: 20.0\n"
     ]
    }
   ],
   "source": [
    "print(\"Logarithmic value of 20 + 1:\", np.log1p(20))\n",
    "print(\"Original value:\", np.expm1(np.log1p(20)))"
   ]
  },
  {
   "cell_type": "code",
   "execution_count": 14,
   "metadata": {},
   "outputs": [],
   "source": [
    "# Return the natural logarithm of one plus the input array, element-wise.\n",
    "positive_rev_df['totals.transactionRevenue'] = np.log1p(positive_rev_df['totals.transactionRevenue'].values)"
   ]
  },
  {
   "cell_type": "code",
   "execution_count": 15,
   "metadata": {},
   "outputs": [
    {
     "data": {
      "text/plain": [
       "Text(0.5, 1.0, 'Logarithmic Transaction Revenue Distribution')"
      ]
     },
     "execution_count": 15,
     "metadata": {},
     "output_type": "execute_result"
    },
    {
     "data": {
      "image/png": "[encoded data removed]",
      "text/plain": [
       "<Figure size 432x288 with 1 Axes>"
      ]
     },
     "metadata": {
      "needs_background": "light"
     },
     "output_type": "display_data"
    }
   ],
   "source": [
    "# Setting the x-axis and y-axis values\n",
    "x_axis_val = range(positive_rev_df.shape[0])\n",
    "y_axis_val = np.sort(positive_rev_df['totals.transactionRevenue'].values)\n",
    "\n",
    "# Plotting a scatter plot\n",
    "plt.scatter(x_axis_val, y_axis_val)\n",
    "plt.title('Logarithmic Transaction Revenue Distribution')"
   ]
  },
  {
   "cell_type": "code",
   "execution_count": 16,
   "metadata": {},
   "outputs": [
    {
     "data": {
      "text/plain": [
       "Text(0.5, 1.0, 'Logarithmic Transaction Revenue Distribution')"
      ]
     },
     "execution_count": 16,
     "metadata": {},
     "output_type": "execute_result"
    },
    {
     "data": {
      "image/png": "[encoded data removed]",
      "text/plain": [
       "<Figure size 360x360 with 1 Axes>"
      ]
     },
     "metadata": {
      "needs_background": "light"
     },
     "output_type": "display_data"
    }
   ],
   "source": [
    "# Plotting a KDE plot\n",
    "sns.displot(positive_rev_df[\"totals.transactionRevenue\"], bins=40, kde=True)\n",
    "plt.title('Logarithmic Transaction Revenue Distribution')"
   ]
  },
  {
   "cell_type": "markdown",
   "metadata": {},
   "source": [
    "The data now looks like it follows a normal distribution (mean = median) and there is no large skewness in the data. \n",
    "\n",
    "Let us also change the value of the transaction revenue in the original dataset to a logarithmic range to remove data skewness."
   ]
  },
  {
   "cell_type": "code",
   "execution_count": 17,
   "metadata": {},
   "outputs": [],
   "source": [
    "# Return the natural logarithm of one plus the input array, element-wise.\n",
    "store_df['totals.transactionRevenue'] = np.log1p(store_df['totals.transactionRevenue'].values)"
   ]
  },
  {
   "cell_type": "markdown",
   "metadata": {},
   "source": [
    "Now, let us check the correlation of all numeric columns with the revenue."
   ]
  },
  {
   "cell_type": "code",
   "execution_count": 18,
   "metadata": {
    "scrolled": true
   },
   "outputs": [
    {
     "data": {
      "text/plain": [
       "visitId                                0.010491\n",
       "visitNumber                            0.023666\n",
       "visitStartTime                         0.010491\n",
       "device.isMobile                       -0.046071\n",
       "totals.hits                            0.378804\n",
       "totals.pageviews                       0.400734\n",
       "totals.bounces                        -0.113049\n",
       "totals.newVisits                      -0.108003\n",
       "totals.transactionRevenue              1.000000\n",
       "trafficSource.isTrueDirect             0.076432\n",
       "trafficSource.adwordsClickInfo.page    0.010931\n",
       "Name: totals.transactionRevenue, dtype: float64"
      ]
     },
     "execution_count": 18,
     "metadata": {},
     "output_type": "execute_result"
    }
   ],
   "source": [
    "# Checking the correlation of all numeric columns with the revenue\n",
    "store_df.corr()['totals.transactionRevenue']"
   ]
  },
  {
   "cell_type": "markdown",
   "metadata": {},
   "source": [
    "None of the columns are highly correlated with the revenue information. However, `totals.pageviews` and `totals.hits` do have some visible correlation. \n",
    "\n",
    "So, we have to make sure that we take the combination of multiple features in order to predict the revenue. For this we can convert the categorical columns to numeric columns by label encoding them.\n",
    "\n",
    "Label encoding converts the values in the columns containing non-numeric values to values between 0 and n_classes-1."
   ]
  },
  {
   "cell_type": "code",
   "execution_count": 19,
   "metadata": {},
   "outputs": [
    {
     "name": "stdout",
     "output_type": "stream",
     "text": [
      "<class 'pandas.core.frame.DataFrame'>\n",
      "RangeIndex: 903653 entries, 0 to 903652\n",
      "Data columns (total 31 columns):\n",
      " #   Column                                        Non-Null Count   Dtype  \n",
      "---  ------                                        --------------   -----  \n",
      " 0   channelGrouping                               903653 non-null  object \n",
      " 1   date                                          903653 non-null  object \n",
      " 2   fullVisitorId                                 903653 non-null  object \n",
      " 3   visitId                                       903653 non-null  int64  \n",
      " 4   visitNumber                                   903653 non-null  int64  \n",
      " 5   visitStartTime                                903653 non-null  int64  \n",
      " 6   device.browser                                903653 non-null  object \n",
      " 7   device.operatingSystem                        903653 non-null  object \n",
      " 8   device.isMobile                               903653 non-null  bool   \n",
      " 9   device.deviceCategory                         903653 non-null  object \n",
      " 10  geoNetwork.continent                          903653 non-null  object \n",
      " 11  geoNetwork.subContinent                       903653 non-null  object \n",
      " 12  geoNetwork.country                            903653 non-null  object \n",
      " 13  geoNetwork.region                             903653 non-null  object \n",
      " 14  geoNetwork.metro                              903653 non-null  object \n",
      " 15  geoNetwork.city                               903653 non-null  object \n",
      " 16  geoNetwork.networkDomain                      903653 non-null  object \n",
      " 17  totals.hits                                   903653 non-null  int64  \n",
      " 18  totals.pageviews                              903653 non-null  int64  \n",
      " 19  totals.bounces                                903653 non-null  int64  \n",
      " 20  totals.newVisits                              903653 non-null  int64  \n",
      " 21  totals.transactionRevenue                     903653 non-null  float64\n",
      " 22  trafficSource.campaign                        903653 non-null  object \n",
      " 23  trafficSource.source                          903653 non-null  object \n",
      " 24  trafficSource.medium                          903653 non-null  object \n",
      " 25  trafficSource.keyword                         903653 non-null  object \n",
      " 26  trafficSource.isTrueDirect                    903653 non-null  bool   \n",
      " 27  trafficSource.adwordsClickInfo.page           903653 non-null  int64  \n",
      " 28  trafficSource.adwordsClickInfo.slot           903653 non-null  object \n",
      " 29  trafficSource.adwordsClickInfo.adNetworkType  903653 non-null  object \n",
      " 30  trafficSource.adwordsClickInfo.isVideoAd      903653 non-null  object \n",
      "dtypes: bool(2), float64(1), int64(8), object(20)\n",
      "memory usage: 201.7+ MB\n"
     ]
    }
   ],
   "source": [
    "# Printing a concise summary of the DataFrame\n",
    "store_df.info()"
   ]
  },
  {
   "cell_type": "code",
   "execution_count": 20,
   "metadata": {},
   "outputs": [],
   "source": [
    "# All categorical columns\n",
    "cat_cols = [\"channelGrouping\", \"device.browser\",\n",
    "            \"device.isMobile\",\n",
    "            \"device.deviceCategory\", \"device.operatingSystem\", \n",
    "            \"geoNetwork.city\", \"geoNetwork.continent\", \n",
    "            \"geoNetwork.country\", \"geoNetwork.metro\",\n",
    "            \"geoNetwork.networkDomain\", \"geoNetwork.region\", \n",
    "            \"geoNetwork.subContinent\", \n",
    "            \"trafficSource.adwordsClickInfo.adNetworkType\", \n",
    "            \"trafficSource.adwordsClickInfo.page\", \n",
    "            \"trafficSource.adwordsClickInfo.slot\", \"trafficSource.campaign\",\n",
    "            \"trafficSource.keyword\", \"trafficSource.medium\", \n",
    "            \"trafficSource.source\",\n",
    "            'trafficSource.adwordsClickInfo.isVideoAd', 'trafficSource.isTrueDirect']"
   ]
  },
  {
   "cell_type": "code",
   "execution_count": 21,
   "metadata": {},
   "outputs": [],
   "source": [
    "# Running a for loop\n",
    "for col in cat_cols:\n",
    "    \n",
    "    # Initializing the Label Encoder\n",
    "    lbl = preprocessing.LabelEncoder()\n",
    "    \n",
    "    # Label encoding caterogical column \n",
    "    store_df[col] = lbl.fit_transform(store_df[col].astype('str').values)"
   ]
  },
  {
   "cell_type": "code",
   "execution_count": 22,
   "metadata": {
    "scrolled": true
   },
   "outputs": [
    {
     "data": {
      "text/html": [
       "<div>\n",
       "<style scoped>\n",
       "    .dataframe tbody tr th:only-of-type {\n",
       "        vertical-align: middle;\n",
       "    }\n",
       "\n",
       "    .dataframe tbody tr th {\n",
       "        vertical-align: top;\n",
       "    }\n",
       "\n",
       "    .dataframe thead th {\n",
       "        text-align: right;\n",
       "    }\n",
       "</style>\n",
       "<table border=\"1\" class=\"dataframe\">\n",
       "  <thead>\n",
       "    <tr style=\"text-align: right;\">\n",
       "      <th></th>\n",
       "      <th>channelGrouping</th>\n",
       "      <th>date</th>\n",
       "      <th>fullVisitorId</th>\n",
       "      <th>visitId</th>\n",
       "      <th>visitNumber</th>\n",
       "      <th>visitStartTime</th>\n",
       "      <th>device.browser</th>\n",
       "      <th>device.operatingSystem</th>\n",
       "      <th>device.isMobile</th>\n",
       "      <th>device.deviceCategory</th>\n",
       "      <th>...</th>\n",
       "      <th>totals.transactionRevenue</th>\n",
       "      <th>trafficSource.campaign</th>\n",
       "      <th>trafficSource.source</th>\n",
       "      <th>trafficSource.medium</th>\n",
       "      <th>trafficSource.keyword</th>\n",
       "      <th>trafficSource.isTrueDirect</th>\n",
       "      <th>trafficSource.adwordsClickInfo.page</th>\n",
       "      <th>trafficSource.adwordsClickInfo.slot</th>\n",
       "      <th>trafficSource.adwordsClickInfo.adNetworkType</th>\n",
       "      <th>trafficSource.adwordsClickInfo.isVideoAd</th>\n",
       "    </tr>\n",
       "  </thead>\n",
       "  <tbody>\n",
       "    <tr>\n",
       "      <th>0</th>\n",
       "      <td>4</td>\n",
       "      <td>2016-09-02</td>\n",
       "      <td>1131660440785968503</td>\n",
       "      <td>1472830385</td>\n",
       "      <td>1</td>\n",
       "      <td>1472830385</td>\n",
       "      <td>11</td>\n",
       "      <td>16</td>\n",
       "      <td>0</td>\n",
       "      <td>0</td>\n",
       "      <td>...</td>\n",
       "      <td>0.0</td>\n",
       "      <td>0</td>\n",
       "      <td>149</td>\n",
       "      <td>5</td>\n",
       "      <td>11</td>\n",
       "      <td>0</td>\n",
       "      <td>0</td>\n",
       "      <td>0</td>\n",
       "      <td>1</td>\n",
       "      <td>1</td>\n",
       "    </tr>\n",
       "    <tr>\n",
       "      <th>1</th>\n",
       "      <td>4</td>\n",
       "      <td>2016-09-02</td>\n",
       "      <td>377306020877927890</td>\n",
       "      <td>1472880147</td>\n",
       "      <td>1</td>\n",
       "      <td>1472880147</td>\n",
       "      <td>16</td>\n",
       "      <td>7</td>\n",
       "      <td>0</td>\n",
       "      <td>0</td>\n",
       "      <td>...</td>\n",
       "      <td>0.0</td>\n",
       "      <td>0</td>\n",
       "      <td>149</td>\n",
       "      <td>5</td>\n",
       "      <td>11</td>\n",
       "      <td>0</td>\n",
       "      <td>0</td>\n",
       "      <td>0</td>\n",
       "      <td>1</td>\n",
       "      <td>1</td>\n",
       "    </tr>\n",
       "    <tr>\n",
       "      <th>2</th>\n",
       "      <td>4</td>\n",
       "      <td>2016-09-02</td>\n",
       "      <td>3895546263509774583</td>\n",
       "      <td>1472865386</td>\n",
       "      <td>1</td>\n",
       "      <td>1472865386</td>\n",
       "      <td>11</td>\n",
       "      <td>16</td>\n",
       "      <td>0</td>\n",
       "      <td>0</td>\n",
       "      <td>...</td>\n",
       "      <td>0.0</td>\n",
       "      <td>0</td>\n",
       "      <td>149</td>\n",
       "      <td>5</td>\n",
       "      <td>11</td>\n",
       "      <td>0</td>\n",
       "      <td>0</td>\n",
       "      <td>0</td>\n",
       "      <td>1</td>\n",
       "      <td>1</td>\n",
       "    </tr>\n",
       "    <tr>\n",
       "      <th>3</th>\n",
       "      <td>4</td>\n",
       "      <td>2016-09-02</td>\n",
       "      <td>4763447161404445595</td>\n",
       "      <td>1472881213</td>\n",
       "      <td>1</td>\n",
       "      <td>1472881213</td>\n",
       "      <td>46</td>\n",
       "      <td>6</td>\n",
       "      <td>0</td>\n",
       "      <td>0</td>\n",
       "      <td>...</td>\n",
       "      <td>0.0</td>\n",
       "      <td>0</td>\n",
       "      <td>149</td>\n",
       "      <td>5</td>\n",
       "      <td>1098</td>\n",
       "      <td>0</td>\n",
       "      <td>0</td>\n",
       "      <td>0</td>\n",
       "      <td>1</td>\n",
       "      <td>1</td>\n",
       "    </tr>\n",
       "    <tr>\n",
       "      <th>4</th>\n",
       "      <td>4</td>\n",
       "      <td>2016-09-02</td>\n",
       "      <td>27294437909732085</td>\n",
       "      <td>1472822600</td>\n",
       "      <td>2</td>\n",
       "      <td>1472822600</td>\n",
       "      <td>11</td>\n",
       "      <td>1</td>\n",
       "      <td>1</td>\n",
       "      <td>1</td>\n",
       "      <td>...</td>\n",
       "      <td>0.0</td>\n",
       "      <td>0</td>\n",
       "      <td>149</td>\n",
       "      <td>5</td>\n",
       "      <td>11</td>\n",
       "      <td>1</td>\n",
       "      <td>0</td>\n",
       "      <td>0</td>\n",
       "      <td>1</td>\n",
       "      <td>1</td>\n",
       "    </tr>\n",
       "  </tbody>\n",
       "</table>\n",
       "<p>5 rows × 31 columns</p>\n",
       "</div>"
      ],
      "text/plain": [
       "   channelGrouping        date        fullVisitorId     visitId  visitNumber  \\\n",
       "0                4  2016-09-02  1131660440785968503  1472830385            1   \n",
       "1                4  2016-09-02   377306020877927890  1472880147            1   \n",
       "2                4  2016-09-02  3895546263509774583  1472865386            1   \n",
       "3                4  2016-09-02  4763447161404445595  1472881213            1   \n",
       "4                4  2016-09-02    27294437909732085  1472822600            2   \n",
       "\n",
       "   visitStartTime  device.browser  device.operatingSystem  device.isMobile  \\\n",
       "0      1472830385              11                      16                0   \n",
       "1      1472880147              16                       7                0   \n",
       "2      1472865386              11                      16                0   \n",
       "3      1472881213              46                       6                0   \n",
       "4      1472822600              11                       1                1   \n",
       "\n",
       "   device.deviceCategory  ...  totals.transactionRevenue  \\\n",
       "0                      0  ...                        0.0   \n",
       "1                      0  ...                        0.0   \n",
       "2                      0  ...                        0.0   \n",
       "3                      0  ...                        0.0   \n",
       "4                      1  ...                        0.0   \n",
       "\n",
       "   trafficSource.campaign  trafficSource.source  trafficSource.medium  \\\n",
       "0                       0                   149                     5   \n",
       "1                       0                   149                     5   \n",
       "2                       0                   149                     5   \n",
       "3                       0                   149                     5   \n",
       "4                       0                   149                     5   \n",
       "\n",
       "   trafficSource.keyword  trafficSource.isTrueDirect  \\\n",
       "0                     11                           0   \n",
       "1                     11                           0   \n",
       "2                     11                           0   \n",
       "3                   1098                           0   \n",
       "4                     11                           1   \n",
       "\n",
       "   trafficSource.adwordsClickInfo.page  trafficSource.adwordsClickInfo.slot  \\\n",
       "0                                    0                                    0   \n",
       "1                                    0                                    0   \n",
       "2                                    0                                    0   \n",
       "3                                    0                                    0   \n",
       "4                                    0                                    0   \n",
       "\n",
       "   trafficSource.adwordsClickInfo.adNetworkType  \\\n",
       "0                                             1   \n",
       "1                                             1   \n",
       "2                                             1   \n",
       "3                                             1   \n",
       "4                                             1   \n",
       "\n",
       "   trafficSource.adwordsClickInfo.isVideoAd  \n",
       "0                                         1  \n",
       "1                                         1  \n",
       "2                                         1  \n",
       "3                                         1  \n",
       "4                                         1  \n",
       "\n",
       "[5 rows x 31 columns]"
      ]
     },
     "execution_count": 22,
     "metadata": {},
     "output_type": "execute_result"
    }
   ],
   "source": [
    "# looking at the first five rows\n",
    "store_df.head()"
   ]
  },
  {
   "cell_type": "code",
   "execution_count": 23,
   "metadata": {
    "scrolled": false
   },
   "outputs": [
    {
     "data": {
      "text/plain": [
       "channelGrouping                                -0.000807\n",
       "visitId                                         0.010491\n",
       "visitNumber                                     0.023666\n",
       "visitStartTime                                  0.010491\n",
       "device.browser                                 -0.045807\n",
       "device.operatingSystem                         -0.040621\n",
       "device.isMobile                                -0.046071\n",
       "device.deviceCategory                          -0.042843\n",
       "geoNetwork.continent                           -0.088376\n",
       "geoNetwork.subContinent                        -0.031715\n",
       "geoNetwork.country                              0.080101\n",
       "geoNetwork.region                              -0.032398\n",
       "geoNetwork.metro                                0.017485\n",
       "geoNetwork.city                                -0.014020\n",
       "geoNetwork.networkDomain                       -0.065589\n",
       "totals.hits                                     0.378804\n",
       "totals.pageviews                                0.400734\n",
       "totals.bounces                                 -0.113049\n",
       "totals.newVisits                               -0.108003\n",
       "totals.transactionRevenue                       1.000000\n",
       "trafficSource.campaign                         -0.009530\n",
       "trafficSource.source                           -0.010035\n",
       "trafficSource.medium                            0.001241\n",
       "trafficSource.keyword                          -0.006611\n",
       "trafficSource.isTrueDirect                      0.076432\n",
       "trafficSource.adwordsClickInfo.page             0.010794\n",
       "trafficSource.adwordsClickInfo.slot             0.011477\n",
       "trafficSource.adwordsClickInfo.adNetworkType   -0.011340\n",
       "trafficSource.adwordsClickInfo.isVideoAd       -0.011329\n",
       "Name: totals.transactionRevenue, dtype: float64"
      ]
     },
     "execution_count": 23,
     "metadata": {},
     "output_type": "execute_result"
    }
   ],
   "source": [
    "# Checking the correlation of all numeric columns with the revenue\n",
    "store_df.corr()['totals.transactionRevenue']"
   ]
  },
  {
   "cell_type": "markdown",
   "metadata": {},
   "source": [
    "Now, we have a lot of columns that are somewhat correlated with the revenue information. The data is now ready for applying Machine Learning on it.\n",
    "\n",
    "By the way, we haven't performed **feature scaling** in this dataset to convert all numeric values within a certain range (0 to 1 / -1 to 1 / etc.). This is because we will be using a tree-based algorithm for data modeling and in such algorithms, feature scaling is not required since the result will not be affected.\n",
    "\n",
    "Finally, let us save this DataFrame in a CSV file to use in the next lesson of this course. "
   ]
  },
  {
   "cell_type": "code",
   "execution_count": 24,
   "metadata": {},
   "outputs": [],
   "source": [
    "# Exporting as a CSV file\n",
    "store_df.to_csv('data/preprocessed_gstore_data.csv', header=True, index=False)"
   ]
  },
  {
   "cell_type": "markdown",
   "metadata": {},
   "source": [
    "That is it for this lesson!\n",
    "\n",
    "As an exercise, I would encourage you to pre-process the data even further by removing columns that have almost 0 correlation with the revenue information. Doing so may help you get more accurate predictions when applying Machine Learning to predict the revenue."
   ]
  }
 ],
 "metadata": {
  "kernelspec": {
   "display_name": "Python 3",
   "language": "python",
   "name": "python3"
  },
  "language_info": {
   "codemirror_mode": {
    "name": "ipython",
    "version": 3
   },
   "file_extension": ".py",
   "mimetype": "text/x-python",
   "name": "python",
   "nbconvert_exporter": "python",
   "pygments_lexer": "ipython3",
   "version": "3.8.6"
  }
 },
 "nbformat": 4,
 "nbformat_minor": 4
}
